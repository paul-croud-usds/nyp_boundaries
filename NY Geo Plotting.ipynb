{
 "cells": [
  {
   "cell_type": "code",
   "execution_count": 3,
   "id": "21046cbd",
   "metadata": {},
   "outputs": [],
   "source": [
    "import pandas as pd\n",
    "import geopandas\n",
    "import numpy as np\n",
    "import matplotlib.pyplot as plt\n",
    "import geopandas as gpd\n",
    "import pprint\n",
    "from shapely.geometry import MultiPoint, Polygon, Point, LinearRing "
   ]
  },
  {
   "cell_type": "code",
   "execution_count": 4,
   "id": "33b96ab6",
   "metadata": {},
   "outputs": [],
   "source": [
    "file = '../../Downloads/ny_new_york_zip_codes_geo.min.json'"
   ]
  },
  {
   "cell_type": "code",
   "execution_count": 174,
   "id": "0022c46e",
   "metadata": {},
   "outputs": [
    {
     "data": {
      "text/html": [
       "<div>\n",
       "<style scoped>\n",
       "    .dataframe tbody tr th:only-of-type {\n",
       "        vertical-align: middle;\n",
       "    }\n",
       "\n",
       "    .dataframe tbody tr th {\n",
       "        vertical-align: top;\n",
       "    }\n",
       "\n",
       "    .dataframe thead th {\n",
       "        text-align: right;\n",
       "    }\n",
       "</style>\n",
       "<table border=\"1\" class=\"dataframe\">\n",
       "  <thead>\n",
       "    <tr style=\"text-align: right;\">\n",
       "      <th></th>\n",
       "      <th>STATEFP10</th>\n",
       "      <th>ZCTA5CE10</th>\n",
       "      <th>GEOID10</th>\n",
       "      <th>CLASSFP10</th>\n",
       "      <th>MTFCC10</th>\n",
       "      <th>FUNCSTAT10</th>\n",
       "      <th>ALAND10</th>\n",
       "      <th>AWATER10</th>\n",
       "      <th>INTPTLAT10</th>\n",
       "      <th>INTPTLON10</th>\n",
       "      <th>PARTFLG10</th>\n",
       "      <th>geometry</th>\n",
       "    </tr>\n",
       "  </thead>\n",
       "  <tbody>\n",
       "    <tr>\n",
       "      <th>0</th>\n",
       "      <td>36</td>\n",
       "      <td>12205</td>\n",
       "      <td>3612205</td>\n",
       "      <td>B5</td>\n",
       "      <td>G6350</td>\n",
       "      <td>S</td>\n",
       "      <td>40906445</td>\n",
       "      <td>243508</td>\n",
       "      <td>+42.7187855</td>\n",
       "      <td>-073.8292399</td>\n",
       "      <td>N</td>\n",
       "      <td>POLYGON ((-73.87052 42.75123, -73.86861 42.756...</td>\n",
       "    </tr>\n",
       "    <tr>\n",
       "      <th>1</th>\n",
       "      <td>36</td>\n",
       "      <td>12009</td>\n",
       "      <td>3612009</td>\n",
       "      <td>B5</td>\n",
       "      <td>G6350</td>\n",
       "      <td>S</td>\n",
       "      <td>135241924</td>\n",
       "      <td>2168637</td>\n",
       "      <td>+42.6975663</td>\n",
       "      <td>-074.0355422</td>\n",
       "      <td>N</td>\n",
       "      <td>POLYGON ((-74.10891 42.65300, -74.10889 42.653...</td>\n",
       "    </tr>\n",
       "    <tr>\n",
       "      <th>2</th>\n",
       "      <td>36</td>\n",
       "      <td>14804</td>\n",
       "      <td>3614804</td>\n",
       "      <td>B5</td>\n",
       "      <td>G6350</td>\n",
       "      <td>S</td>\n",
       "      <td>144718714</td>\n",
       "      <td>232123</td>\n",
       "      <td>+42.3172588</td>\n",
       "      <td>-077.8479358</td>\n",
       "      <td>N</td>\n",
       "      <td>POLYGON ((-77.92747 42.34775, -77.92632 42.347...</td>\n",
       "    </tr>\n",
       "    <tr>\n",
       "      <th>3</th>\n",
       "      <td>36</td>\n",
       "      <td>14836</td>\n",
       "      <td>3614836</td>\n",
       "      <td>B5</td>\n",
       "      <td>G6350</td>\n",
       "      <td>S</td>\n",
       "      <td>77612958</td>\n",
       "      <td>131305</td>\n",
       "      <td>+42.5429182</td>\n",
       "      <td>-077.8781933</td>\n",
       "      <td>N</td>\n",
       "      <td>MULTIPOLYGON (((-77.95599 42.47433, -77.95600 ...</td>\n",
       "    </tr>\n",
       "    <tr>\n",
       "      <th>4</th>\n",
       "      <td>36</td>\n",
       "      <td>14536</td>\n",
       "      <td>3614536</td>\n",
       "      <td>B5</td>\n",
       "      <td>G6350</td>\n",
       "      <td>S</td>\n",
       "      <td>47193482</td>\n",
       "      <td>425175</td>\n",
       "      <td>+42.5439751</td>\n",
       "      <td>-078.0836709</td>\n",
       "      <td>N</td>\n",
       "      <td>POLYGON ((-78.05030 42.53850, -78.05024 42.538...</td>\n",
       "    </tr>\n",
       "    <tr>\n",
       "      <th>...</th>\n",
       "      <td>...</td>\n",
       "      <td>...</td>\n",
       "      <td>...</td>\n",
       "      <td>...</td>\n",
       "      <td>...</td>\n",
       "      <td>...</td>\n",
       "      <td>...</td>\n",
       "      <td>...</td>\n",
       "      <td>...</td>\n",
       "      <td>...</td>\n",
       "      <td>...</td>\n",
       "      <td>...</td>\n",
       "    </tr>\n",
       "    <tr>\n",
       "      <th>1789</th>\n",
       "      <td>36</td>\n",
       "      <td>10503</td>\n",
       "      <td>3610503</td>\n",
       "      <td>B5</td>\n",
       "      <td>G6350</td>\n",
       "      <td>S</td>\n",
       "      <td>38497</td>\n",
       "      <td>0</td>\n",
       "      <td>+41.0265555</td>\n",
       "      <td>-073.8753095</td>\n",
       "      <td>N</td>\n",
       "      <td>POLYGON ((-73.87383 41.02557, -73.87631 41.025...</td>\n",
       "    </tr>\n",
       "    <tr>\n",
       "      <th>1790</th>\n",
       "      <td>36</td>\n",
       "      <td>10535</td>\n",
       "      <td>3610535</td>\n",
       "      <td>B5</td>\n",
       "      <td>G6350</td>\n",
       "      <td>S</td>\n",
       "      <td>1169775</td>\n",
       "      <td>154348</td>\n",
       "      <td>+41.3351693</td>\n",
       "      <td>-073.7939193</td>\n",
       "      <td>N</td>\n",
       "      <td>POLYGON ((-73.81299 41.33241, -73.81285 41.332...</td>\n",
       "    </tr>\n",
       "    <tr>\n",
       "      <th>1791</th>\n",
       "      <td>36</td>\n",
       "      <td>14569</td>\n",
       "      <td>3614569</td>\n",
       "      <td>B5</td>\n",
       "      <td>G6350</td>\n",
       "      <td>S</td>\n",
       "      <td>197585027</td>\n",
       "      <td>1112470</td>\n",
       "      <td>+42.7346931</td>\n",
       "      <td>-078.1685932</td>\n",
       "      <td>N</td>\n",
       "      <td>POLYGON ((-78.19740 42.82658, -78.19619 42.826...</td>\n",
       "    </tr>\n",
       "    <tr>\n",
       "      <th>1792</th>\n",
       "      <td>36</td>\n",
       "      <td>14478</td>\n",
       "      <td>3614478</td>\n",
       "      <td>B5</td>\n",
       "      <td>G6350</td>\n",
       "      <td>S</td>\n",
       "      <td>30311215</td>\n",
       "      <td>0</td>\n",
       "      <td>+42.5778234</td>\n",
       "      <td>-077.1263221</td>\n",
       "      <td>N</td>\n",
       "      <td>POLYGON ((-77.09451 42.62465, -77.09428 42.624...</td>\n",
       "    </tr>\n",
       "    <tr>\n",
       "      <th>1793</th>\n",
       "      <td>36</td>\n",
       "      <td>14415</td>\n",
       "      <td>3614415</td>\n",
       "      <td>B5</td>\n",
       "      <td>G6350</td>\n",
       "      <td>S</td>\n",
       "      <td>3760955</td>\n",
       "      <td>0</td>\n",
       "      <td>+42.7554950</td>\n",
       "      <td>-077.0170837</td>\n",
       "      <td>N</td>\n",
       "      <td>MULTIPOLYGON (((-77.01503 42.75771, -77.01492 ...</td>\n",
       "    </tr>\n",
       "  </tbody>\n",
       "</table>\n",
       "<p>1794 rows × 12 columns</p>\n",
       "</div>"
      ],
      "text/plain": [
       "     STATEFP10 ZCTA5CE10  GEOID10 CLASSFP10 MTFCC10 FUNCSTAT10    ALAND10  \\\n",
       "0           36     12205  3612205        B5   G6350          S   40906445   \n",
       "1           36     12009  3612009        B5   G6350          S  135241924   \n",
       "2           36     14804  3614804        B5   G6350          S  144718714   \n",
       "3           36     14836  3614836        B5   G6350          S   77612958   \n",
       "4           36     14536  3614536        B5   G6350          S   47193482   \n",
       "...        ...       ...      ...       ...     ...        ...        ...   \n",
       "1789        36     10503  3610503        B5   G6350          S      38497   \n",
       "1790        36     10535  3610535        B5   G6350          S    1169775   \n",
       "1791        36     14569  3614569        B5   G6350          S  197585027   \n",
       "1792        36     14478  3614478        B5   G6350          S   30311215   \n",
       "1793        36     14415  3614415        B5   G6350          S    3760955   \n",
       "\n",
       "      AWATER10   INTPTLAT10    INTPTLON10 PARTFLG10  \\\n",
       "0       243508  +42.7187855  -073.8292399         N   \n",
       "1      2168637  +42.6975663  -074.0355422         N   \n",
       "2       232123  +42.3172588  -077.8479358         N   \n",
       "3       131305  +42.5429182  -077.8781933         N   \n",
       "4       425175  +42.5439751  -078.0836709         N   \n",
       "...        ...          ...           ...       ...   \n",
       "1789         0  +41.0265555  -073.8753095         N   \n",
       "1790    154348  +41.3351693  -073.7939193         N   \n",
       "1791   1112470  +42.7346931  -078.1685932         N   \n",
       "1792         0  +42.5778234  -077.1263221         N   \n",
       "1793         0  +42.7554950  -077.0170837         N   \n",
       "\n",
       "                                               geometry  \n",
       "0     POLYGON ((-73.87052 42.75123, -73.86861 42.756...  \n",
       "1     POLYGON ((-74.10891 42.65300, -74.10889 42.653...  \n",
       "2     POLYGON ((-77.92747 42.34775, -77.92632 42.347...  \n",
       "3     MULTIPOLYGON (((-77.95599 42.47433, -77.95600 ...  \n",
       "4     POLYGON ((-78.05030 42.53850, -78.05024 42.538...  \n",
       "...                                                 ...  \n",
       "1789  POLYGON ((-73.87383 41.02557, -73.87631 41.025...  \n",
       "1790  POLYGON ((-73.81299 41.33241, -73.81285 41.332...  \n",
       "1791  POLYGON ((-78.19740 42.82658, -78.19619 42.826...  \n",
       "1792  POLYGON ((-77.09451 42.62465, -77.09428 42.624...  \n",
       "1793  MULTIPOLYGON (((-77.01503 42.75771, -77.01492 ...  \n",
       "\n",
       "[1794 rows x 12 columns]"
      ]
     },
     "execution_count": 174,
     "metadata": {},
     "output_type": "execute_result"
    }
   ],
   "source": [
    "gdf = geopandas.read_file(file)\n",
    "gdf"
   ]
  },
  {
   "cell_type": "code",
   "execution_count": 176,
   "id": "6e329560",
   "metadata": {},
   "outputs": [
    {
     "data": {
      "text/html": [
       "<div>\n",
       "<style scoped>\n",
       "    .dataframe tbody tr th:only-of-type {\n",
       "        vertical-align: middle;\n",
       "    }\n",
       "\n",
       "    .dataframe tbody tr th {\n",
       "        vertical-align: top;\n",
       "    }\n",
       "\n",
       "    .dataframe thead th {\n",
       "        text-align: right;\n",
       "    }\n",
       "</style>\n",
       "<table border=\"1\" class=\"dataframe\">\n",
       "  <thead>\n",
       "    <tr style=\"text-align: right;\">\n",
       "      <th></th>\n",
       "      <th>zone</th>\n",
       "      <th>zip</th>\n",
       "    </tr>\n",
       "  </thead>\n",
       "  <tbody>\n",
       "    <tr>\n",
       "      <th>0</th>\n",
       "      <td>Zone A</td>\n",
       "      <td>10707</td>\n",
       "    </tr>\n",
       "    <tr>\n",
       "      <th>1</th>\n",
       "      <td>Zone A</td>\n",
       "      <td>10706</td>\n",
       "    </tr>\n",
       "    <tr>\n",
       "      <th>2</th>\n",
       "      <td>Zone A</td>\n",
       "      <td>10467</td>\n",
       "    </tr>\n",
       "    <tr>\n",
       "      <th>3</th>\n",
       "      <td>Zone A</td>\n",
       "      <td>10522</td>\n",
       "    </tr>\n",
       "    <tr>\n",
       "      <th>4</th>\n",
       "      <td>Zone A</td>\n",
       "      <td>10533</td>\n",
       "    </tr>\n",
       "    <tr>\n",
       "      <th>...</th>\n",
       "      <td>...</td>\n",
       "      <td>...</td>\n",
       "    </tr>\n",
       "    <tr>\n",
       "      <th>65</th>\n",
       "      <td>Hudson Valley</td>\n",
       "      <td>10570</td>\n",
       "    </tr>\n",
       "    <tr>\n",
       "      <th>66</th>\n",
       "      <td>Hudson Valley</td>\n",
       "      <td>12508</td>\n",
       "    </tr>\n",
       "    <tr>\n",
       "      <th>67</th>\n",
       "      <td>Hudson Valley</td>\n",
       "      <td>10588</td>\n",
       "    </tr>\n",
       "    <tr>\n",
       "      <th>68</th>\n",
       "      <td>Hudson Valley</td>\n",
       "      <td>10537</td>\n",
       "    </tr>\n",
       "    <tr>\n",
       "      <th>69</th>\n",
       "      <td>Hudson Valley</td>\n",
       "      <td>10527</td>\n",
       "    </tr>\n",
       "  </tbody>\n",
       "</table>\n",
       "<p>70 rows × 2 columns</p>\n",
       "</div>"
      ],
      "text/plain": [
       "             zone    zip\n",
       "0          Zone A  10707\n",
       "1          Zone A  10706\n",
       "2          Zone A  10467\n",
       "3          Zone A  10522\n",
       "4          Zone A  10533\n",
       "..            ...    ...\n",
       "65  Hudson Valley  10570\n",
       "66  Hudson Valley  12508\n",
       "67  Hudson Valley  10588\n",
       "68  Hudson Valley  10537\n",
       "69  Hudson Valley  10527\n",
       "\n",
       "[70 rows x 2 columns]"
      ]
     },
     "execution_count": 176,
     "metadata": {},
     "output_type": "execute_result"
    }
   ],
   "source": [
    "zip_df = pd.read_csv('nyp_zips.csv')\n",
    "zip_df['zip'] = zip_df['zip'].astype(str)\n",
    "zip_df\n",
    "#zip_df.dtypes"
   ]
  },
  {
   "cell_type": "code",
   "execution_count": 6,
   "id": "de27d050",
   "metadata": {},
   "outputs": [],
   "source": [
    "# zone_a = (\n",
    "# '10707',\n",
    "# '10706',\n",
    "# '10467',\n",
    "# '10522',\n",
    "# '10533',\n",
    "# '10709',\n",
    "# '10708',\n",
    "# '10465',\n",
    "# '10705',\n",
    "# '10470',\n",
    "# '10530',\n",
    "# '10552',\n",
    "# '10583',\n",
    "# '10606',\n",
    "# '10801',\n",
    "# '10469',\n",
    "# '10034',\n",
    "# '10703',\n",
    "# '10701',\n",
    "# '10462',\n",
    "# '10601',\n",
    "# '10607',\n",
    "# '10463',\n",
    "# '10471',\n",
    "# '10804',\n",
    "# '10475',\n",
    "# '10466',\n",
    "# '10538',\n",
    "# '10805',\n",
    "# '10502',\n",
    "# '10550',\n",
    "# '10528',\n",
    "# '10605',\n",
    "# '10543',\n",
    "# '10704',\n",
    "# '10461',\n",
    "# '10803',\n",
    "# '10573',\n",
    "# '10553',\n",
    "# '10580',\n",
    "# '10710')\n",
    "# hud_val= ('10566','10567','10598','10596','10521','10520','10548','10511','10562','10510','10547','10579','10535','10505','10541','10589','10512','10516','10524','12524','12533','10928','10591','10546','10570','12508','10588','10537','10527')"
   ]
  },
  {
   "cell_type": "code",
   "execution_count": 177,
   "id": "a9ac0cc0",
   "metadata": {},
   "outputs": [
    {
     "data": {
      "text/html": [
       "<div>\n",
       "<style scoped>\n",
       "    .dataframe tbody tr th:only-of-type {\n",
       "        vertical-align: middle;\n",
       "    }\n",
       "\n",
       "    .dataframe tbody tr th {\n",
       "        vertical-align: top;\n",
       "    }\n",
       "\n",
       "    .dataframe thead th {\n",
       "        text-align: right;\n",
       "    }\n",
       "</style>\n",
       "<table border=\"1\" class=\"dataframe\">\n",
       "  <thead>\n",
       "    <tr style=\"text-align: right;\">\n",
       "      <th></th>\n",
       "      <th>STATEFP10</th>\n",
       "      <th>ZCTA5CE10</th>\n",
       "      <th>GEOID10</th>\n",
       "      <th>CLASSFP10</th>\n",
       "      <th>MTFCC10</th>\n",
       "      <th>FUNCSTAT10</th>\n",
       "      <th>ALAND10</th>\n",
       "      <th>AWATER10</th>\n",
       "      <th>INTPTLAT10</th>\n",
       "      <th>INTPTLON10</th>\n",
       "      <th>PARTFLG10</th>\n",
       "      <th>geometry</th>\n",
       "      <th>zone</th>\n",
       "      <th>zip</th>\n",
       "    </tr>\n",
       "  </thead>\n",
       "  <tbody>\n",
       "    <tr>\n",
       "      <th>0</th>\n",
       "      <td>36</td>\n",
       "      <td>12205</td>\n",
       "      <td>3612205</td>\n",
       "      <td>B5</td>\n",
       "      <td>G6350</td>\n",
       "      <td>S</td>\n",
       "      <td>40906445</td>\n",
       "      <td>243508</td>\n",
       "      <td>+42.7187855</td>\n",
       "      <td>-073.8292399</td>\n",
       "      <td>N</td>\n",
       "      <td>POLYGON ((-73.87052 42.75123, -73.86861 42.756...</td>\n",
       "      <td>NaN</td>\n",
       "      <td>NaN</td>\n",
       "    </tr>\n",
       "    <tr>\n",
       "      <th>1</th>\n",
       "      <td>36</td>\n",
       "      <td>12009</td>\n",
       "      <td>3612009</td>\n",
       "      <td>B5</td>\n",
       "      <td>G6350</td>\n",
       "      <td>S</td>\n",
       "      <td>135241924</td>\n",
       "      <td>2168637</td>\n",
       "      <td>+42.6975663</td>\n",
       "      <td>-074.0355422</td>\n",
       "      <td>N</td>\n",
       "      <td>POLYGON ((-74.10891 42.65300, -74.10889 42.653...</td>\n",
       "      <td>NaN</td>\n",
       "      <td>NaN</td>\n",
       "    </tr>\n",
       "    <tr>\n",
       "      <th>2</th>\n",
       "      <td>36</td>\n",
       "      <td>14804</td>\n",
       "      <td>3614804</td>\n",
       "      <td>B5</td>\n",
       "      <td>G6350</td>\n",
       "      <td>S</td>\n",
       "      <td>144718714</td>\n",
       "      <td>232123</td>\n",
       "      <td>+42.3172588</td>\n",
       "      <td>-077.8479358</td>\n",
       "      <td>N</td>\n",
       "      <td>POLYGON ((-77.92747 42.34775, -77.92632 42.347...</td>\n",
       "      <td>NaN</td>\n",
       "      <td>NaN</td>\n",
       "    </tr>\n",
       "    <tr>\n",
       "      <th>3</th>\n",
       "      <td>36</td>\n",
       "      <td>14836</td>\n",
       "      <td>3614836</td>\n",
       "      <td>B5</td>\n",
       "      <td>G6350</td>\n",
       "      <td>S</td>\n",
       "      <td>77612958</td>\n",
       "      <td>131305</td>\n",
       "      <td>+42.5429182</td>\n",
       "      <td>-077.8781933</td>\n",
       "      <td>N</td>\n",
       "      <td>MULTIPOLYGON (((-77.95599 42.47433, -77.95600 ...</td>\n",
       "      <td>NaN</td>\n",
       "      <td>NaN</td>\n",
       "    </tr>\n",
       "    <tr>\n",
       "      <th>4</th>\n",
       "      <td>36</td>\n",
       "      <td>14536</td>\n",
       "      <td>3614536</td>\n",
       "      <td>B5</td>\n",
       "      <td>G6350</td>\n",
       "      <td>S</td>\n",
       "      <td>47193482</td>\n",
       "      <td>425175</td>\n",
       "      <td>+42.5439751</td>\n",
       "      <td>-078.0836709</td>\n",
       "      <td>N</td>\n",
       "      <td>POLYGON ((-78.05030 42.53850, -78.05024 42.538...</td>\n",
       "      <td>NaN</td>\n",
       "      <td>NaN</td>\n",
       "    </tr>\n",
       "  </tbody>\n",
       "</table>\n",
       "</div>"
      ],
      "text/plain": [
       "  STATEFP10 ZCTA5CE10  GEOID10 CLASSFP10 MTFCC10 FUNCSTAT10    ALAND10  \\\n",
       "0        36     12205  3612205        B5   G6350          S   40906445   \n",
       "1        36     12009  3612009        B5   G6350          S  135241924   \n",
       "2        36     14804  3614804        B5   G6350          S  144718714   \n",
       "3        36     14836  3614836        B5   G6350          S   77612958   \n",
       "4        36     14536  3614536        B5   G6350          S   47193482   \n",
       "\n",
       "   AWATER10   INTPTLAT10    INTPTLON10 PARTFLG10  \\\n",
       "0    243508  +42.7187855  -073.8292399         N   \n",
       "1   2168637  +42.6975663  -074.0355422         N   \n",
       "2    232123  +42.3172588  -077.8479358         N   \n",
       "3    131305  +42.5429182  -077.8781933         N   \n",
       "4    425175  +42.5439751  -078.0836709         N   \n",
       "\n",
       "                                            geometry zone  zip  \n",
       "0  POLYGON ((-73.87052 42.75123, -73.86861 42.756...  NaN  NaN  \n",
       "1  POLYGON ((-74.10891 42.65300, -74.10889 42.653...  NaN  NaN  \n",
       "2  POLYGON ((-77.92747 42.34775, -77.92632 42.347...  NaN  NaN  \n",
       "3  MULTIPOLYGON (((-77.95599 42.47433, -77.95600 ...  NaN  NaN  \n",
       "4  POLYGON ((-78.05030 42.53850, -78.05024 42.538...  NaN  NaN  "
      ]
     },
     "execution_count": 177,
     "metadata": {},
     "output_type": "execute_result"
    }
   ],
   "source": [
    "# gdf['zone'] = np.where(gdf[\"ZCTA5CE10\"].isin(zone_a), \"Zone A\", \"Other\")\n",
    "gdf = gdf.merge(zip_df, left_on ='ZCTA5CE10', right_on ='zip', how ='left')\n",
    "gdf.head()"
   ]
  },
  {
   "cell_type": "code",
   "execution_count": 206,
   "id": "b83d706b",
   "metadata": {},
   "outputs": [],
   "source": [
    "world = gdf[['zone', 'geometry']]\n",
    "zones = gdf.dissolve(by='zone')\n",
    "zones.head()\n",
    "zones.to_file(\"zones_file.geojson\", driver=\"GeoJSON\")\n"
   ]
  },
  {
   "cell_type": "code",
   "execution_count": 180,
   "id": "3fc129bf",
   "metadata": {},
   "outputs": [],
   "source": [
    "za = zones.loc[['Westchester'], 'geometry']\n",
    "hv = zones.loc[['Hudson Valley'], 'geometry']"
   ]
  },
  {
   "cell_type": "code",
   "execution_count": 179,
   "id": "cdac8779",
   "metadata": {},
   "outputs": [
    {
     "data": {
      "text/plain": [
       "<AxesSubplot:>"
      ]
     },
     "execution_count": 179,
     "metadata": {},
     "output_type": "execute_result"
    },
    {
     "data": {
      "image/png": "[encoded data removed]",
      "text/plain": [
       "<Figure size 432x288 with 1 Axes>"
      ]
     },
     "metadata": {
      "needs_background": "light"
     },
     "output_type": "display_data"
    },
    {
     "data": {
      "image/png": "[encoded data removed]",
      "text/plain": [
       "<Figure size 432x288 with 1 Axes>"
      ]
     },
     "metadata": {
      "needs_background": "light"
     },
     "output_type": "display_data"
    }
   ],
   "source": [
    "za.plot()\n",
    "hv.plot()"
   ]
  },
  {
   "cell_type": "code",
   "execution_count": 213,
   "id": "b79e88c6",
   "metadata": {},
   "outputs": [
    {
     "data": {
      "text/html": [
       "<div>\n",
       "<style scoped>\n",
       "    .dataframe tbody tr th:only-of-type {\n",
       "        vertical-align: middle;\n",
       "    }\n",
       "\n",
       "    .dataframe tbody tr th {\n",
       "        vertical-align: top;\n",
       "    }\n",
       "\n",
       "    .dataframe thead th {\n",
       "        text-align: right;\n",
       "    }\n",
       "</style>\n",
       "<table border=\"1\" class=\"dataframe\">\n",
       "  <thead>\n",
       "    <tr style=\"text-align: right;\">\n",
       "      <th></th>\n",
       "      <th>minx</th>\n",
       "      <th>miny</th>\n",
       "      <th>maxx</th>\n",
       "      <th>maxy</th>\n",
       "    </tr>\n",
       "    <tr>\n",
       "      <th>zone</th>\n",
       "      <th></th>\n",
       "      <th></th>\n",
       "      <th></th>\n",
       "      <th></th>\n",
       "    </tr>\n",
       "  </thead>\n",
       "  <tbody>\n",
       "    <tr>\n",
       "      <th>Hudson Valley</th>\n",
       "      <td>-74.070341</td>\n",
       "      <td>41.046494</td>\n",
       "      <td>-73.610835</td>\n",
       "      <td>41.637582</td>\n",
       "    </tr>\n",
       "  </tbody>\n",
       "</table>\n",
       "</div>"
      ],
      "text/plain": [
       "                    minx       miny       maxx       maxy\n",
       "zone                                                     \n",
       "Hudson Valley -74.070341  41.046494 -73.610835  41.637582"
      ]
     },
     "execution_count": 213,
     "metadata": {},
     "output_type": "execute_result"
    }
   ],
   "source": [
    "za.bounds\n",
    "hv.bounds"
   ]
  },
  {
   "cell_type": "code",
   "execution_count": 36,
   "id": "8c4668c1",
   "metadata": {},
   "outputs": [
    {
     "data": {
      "text/plain": [
       "zone\n",
       "Zone A    POINT (-73.82174 40.93237)\n",
       "dtype: geometry"
      ]
     },
     "execution_count": 36,
     "metadata": {},
     "output_type": "execute_result"
    }
   ],
   "source": [
    "rp = za.representative_point()\n",
    "rp"
   ]
  },
  {
   "cell_type": "code",
   "execution_count": 13,
   "id": "3fd556c4",
   "metadata": {},
   "outputs": [
    {
     "name": "stderr",
     "output_type": "stream",
     "text": [
      "/var/folders/4_/q_7tb_w52611r6nz11nb05qm0000gp/T/ipykernel_3494/576848781.py:2: ShapelyDeprecationWarning: __len__ for multi-part geometries is deprecated and will be removed in Shapely 2.0. Check the length of the `geoms` property instead to get the  number of parts of a multi-part geometry.\n",
      "  for x in range(len(za[0])):\n",
      "/var/folders/4_/q_7tb_w52611r6nz11nb05qm0000gp/T/ipykernel_3494/576848781.py:3: ShapelyDeprecationWarning: __getitem__ for multi-part geometries is deprecated and will be removed in Shapely 2.0. Use the `geoms` property to access the constituent parts of a multi-part geometry.\n",
      "  lenlist.append(len(za[0][x].exterior.coords))\n"
     ]
    }
   ],
   "source": [
    "lenlist = []\n",
    "for x in range(len(za[0])):\n",
    "    lenlist.append(len(za[0][x].exterior.coords))"
   ]
  },
  {
   "cell_type": "code",
   "execution_count": 14,
   "id": "f3d1a6b0",
   "metadata": {},
   "outputs": [
    {
     "name": "stdout",
     "output_type": "stream",
     "text": [
      "[5626, 120, 92, 190, 5, 38, 21, 89, 39, 60, 30, 9, 4, 23, 4, 12, 182, 8, 4]\n",
      "6556\n",
      "285\n"
     ]
    }
   ],
   "source": [
    "lenlist\n",
    "counter = 0\n",
    "for x in lenlist:\n",
    "    counter += x\n",
    "print(lenlist)\n",
    "print(counter)\n",
    "print(round(counter/23,))"
   ]
  },
  {
   "cell_type": "code",
   "execution_count": 189,
   "id": "4c96c9d0",
   "metadata": {},
   "outputs": [
    {
     "name": "stderr",
     "output_type": "stream",
     "text": [
      "/var/folders/4_/q_7tb_w52611r6nz11nb05qm0000gp/T/ipykernel_3494/860891835.py:2: ShapelyDeprecationWarning: __getitem__ for multi-part geometries is deprecated and will be removed in Shapely 2.0. Use the `geoms` property to access the constituent parts of a multi-part geometry.\n",
      "  ex = za[0][0].exterior.coords[0::280]\n",
      "/var/folders/4_/q_7tb_w52611r6nz11nb05qm0000gp/T/ipykernel_3494/860891835.py:3: ShapelyDeprecationWarning: __getitem__ for multi-part geometries is deprecated and will be removed in Shapely 2.0. Use the `geoms` property to access the constituent parts of a multi-part geometry.\n",
      "  hv_ex = hv[0][0].exterior.coords[0::430]\n"
     ]
    }
   ],
   "source": [
    "#ex = za[0][0].exterior.coords[0::round(counter/23,)]\n",
    "ex = za[0][0].exterior.coords[0::280]\n",
    "hv_ex = hv[0][0].exterior.coords[0::430]"
   ]
  },
  {
   "cell_type": "code",
   "execution_count": 190,
   "id": "2d8c2a77",
   "metadata": {},
   "outputs": [
    {
     "data": {
      "text/plain": [
       "21"
      ]
     },
     "execution_count": 190,
     "metadata": {},
     "output_type": "execute_result"
    }
   ],
   "source": [
    "len(ex)\n",
    "len(hv_ex)"
   ]
  },
  {
   "cell_type": "code",
   "execution_count": 108,
   "id": "6562f997",
   "metadata": {},
   "outputs": [
    {
     "data": {
      "text/plain": [
       "[(-73.842905, 40.828478),\n",
       " (-73.904913, 40.930289),\n",
       " (-73.884976, 40.998743),\n",
       " (-73.85936, 41.049505),\n",
       " (-73.810632, 41.050131),\n",
       " (-73.740237, 41.027901),\n",
       " (-73.689164, 41.031844),\n",
       " (-73.659447, 41.017651),\n",
       " (-73.671653, 40.965281),\n",
       " (-73.686521, 40.944206),\n",
       " (-73.690424, 40.959098),\n",
       " (-73.710459, 40.944847),\n",
       " (-73.723195, 40.931777),\n",
       " (-73.737685, 40.927729),\n",
       " (-73.743322, 40.918321),\n",
       " (-73.754567, 40.914751),\n",
       " (-73.76318, 40.912827),\n",
       " (-73.767022, 40.903912),\n",
       " (-73.777958, 40.892851),\n",
       " (-73.787124, 40.888521),\n",
       " (-73.826345, 40.811196)]"
      ]
     },
     "execution_count": 108,
     "metadata": {},
     "output_type": "execute_result"
    }
   ],
   "source": [
    "ex"
   ]
  },
  {
   "cell_type": "code",
   "execution_count": 191,
   "id": "f68d64af",
   "metadata": {},
   "outputs": [
    {
     "data": {
      "text/plain": [
       "<AxesSubplot:>"
      ]
     },
     "execution_count": 191,
     "metadata": {},
     "output_type": "execute_result"
    },
    {
     "data": {
      "image/png": "[encoded data removed]",
      "text/plain": [
       "<Figure size 432x288 with 1 Axes>"
      ]
     },
     "metadata": {
      "needs_background": "light"
     },
     "output_type": "display_data"
    },
    {
     "data": {
      "image/png": "[encoded data removed]",
      "text/plain": [
       "<Figure size 432x288 with 1 Axes>"
      ]
     },
     "metadata": {
      "needs_background": "light"
     },
     "output_type": "display_data"
    }
   ],
   "source": [
    "geopandas.GeoSeries(Polygon(ex)).plot()\n",
    "geopandas.GeoSeries(Polygon(hv_ex)).plot()\n"
   ]
  },
  {
   "cell_type": "code",
   "execution_count": 212,
   "id": "c6d69741",
   "metadata": {},
   "outputs": [
    {
     "name": "stderr",
     "output_type": "stream",
     "text": [
      "/Users/paul.nisenson/.conda/envs/gis_project/lib/python3.8/site-packages/geopandas/io/file.py:362: FutureWarning: pandas.Int64Index is deprecated and will be removed from pandas in a future version. Use pandas.Index with the appropriate dtype instead.\n",
      "  pd.Int64Index,\n"
     ]
    }
   ],
   "source": [
    "d = {'Zone': ['Westchester', 'Hudson Valley'], 'geometry': [Polygon(ex), Polygon(hv_ex)]}\n",
    "exterior_gdf = geopandas.GeoDataFrame(d, crs=\"EPSG:4326\")\n",
    "exterior_gdf.to_file(\"zones_border.geojson\", driver=\"GeoJSON\")"
   ]
  },
  {
   "cell_type": "code",
   "execution_count": 224,
   "id": "16cdb88e",
   "metadata": {},
   "outputs": [
    {
     "data": {
      "text/plain": [
       "[(-73.842905, 40.828478),\n",
       " (-73.947051, 40.804001),\n",
       " (-73.904913, 40.930289),\n",
       " (-73.884976, 40.998743),\n",
       " (-73.85936, 41.049505),\n",
       " (-73.810632, 41.050131),\n",
       " (-73.740237, 41.027901),\n",
       " (-73.689164, 41.031844),\n",
       " (-73.655241, 41.060744),\n",
       " (-73.659447, 41.017651),\n",
       " (-73.671653, 40.965281),\n",
       " (-73.686521, 40.944206),\n",
       " (-73.690424, 40.959098),\n",
       " (-73.710459, 40.944847),\n",
       " (-73.723195, 40.931777),\n",
       " (-73.737685, 40.927729),\n",
       " (-73.743322, 40.918321),\n",
       " (-73.754567, 40.914751),\n",
       " (-73.76318, 40.912827),\n",
       " (-73.767022, 40.903912),\n",
       " (-73.777958, 40.892851),\n",
       " (-73.787124, 40.888521),\n",
       " (-73.826345, 40.811196)]"
      ]
     },
     "execution_count": 224,
     "metadata": {},
     "output_type": "execute_result"
    }
   ],
   "source": [
    "ex_add = ex.copy()\n",
    "hv_add = hv_ex.copy()\n",
    "# ex_add.append((za.bounds['minx'][0],za.bounds['miny'][0]))\n",
    "# ex_add.append((za.bounds['maxx'][0],za.bounds['maxy'][0]))\n",
    "max_coord = za.bounds['maxx'][0],za.bounds['maxy'][0]\n",
    "min_coord = za.bounds['minx'][0],za.bounds['miny'][0]\n",
    "hv_max_coord = hv.bounds['maxx'][0],hv.bounds['maxy'][0]\n",
    "hv_min_coord = hv.bounds['minx'][0],hv.bounds['miny'][0]\n",
    "# ex_add\n",
    "def nearest_coord(coord):\n",
    "    min_diff = 10\n",
    "    min_index = 0\n",
    "    counter = 0\n",
    "    for x,y in ex_add:\n",
    "        if abs((x - coord[0])) + abs(y - coord[1]) < min_diff:\n",
    "            min_diff = abs((x - coord[0])) + abs(y-coord[1])\n",
    "            min_index = counter\n",
    "        counter +=1\n",
    "    return min_index\n",
    "ex_add.insert(nearest_coord(max_coord), max_coord)\n",
    "ex_add.insert(1, min_coord)\n",
    "hv_add.insert(nearest_coord(hv_max_coord), hv_max_coord)\n",
    "hv_add.insert(nearest_coord(hv_min_coord), hv_min_coord)\n",
    "# hv_add.append(hv_max_coord)\n",
    "# hv_add.append(hv_min_coord)\n",
    "ex_add "
   ]
  },
  {
   "cell_type": "code",
   "execution_count": 225,
   "id": "97ae144d",
   "metadata": {},
   "outputs": [
    {
     "data": {
      "text/plain": [
       "<AxesSubplot:>"
      ]
     },
     "execution_count": 225,
     "metadata": {},
     "output_type": "execute_result"
    },
    {
     "data": {
      "image/png": "[encoded data removed]",
      "text/plain": [
       "<Figure size 432x288 with 1 Axes>"
      ]
     },
     "metadata": {
      "needs_background": "light"
     },
     "output_type": "display_data"
    },
    {
     "data": {
      "image/png": "[encoded data removed]",
      "text/plain": [
       "<Figure size 432x288 with 1 Axes>"
      ]
     },
     "metadata": {
      "needs_background": "light"
     },
     "output_type": "display_data"
    }
   ],
   "source": [
    "geopandas.GeoSeries(Polygon(ex_add)).plot()\n",
    "geopandas.GeoSeries(Polygon(hv_add)).plot()\n"
   ]
  },
  {
   "cell_type": "code",
   "execution_count": 22,
   "id": "84cafd41",
   "metadata": {},
   "outputs": [
    {
     "name": "stderr",
     "output_type": "stream",
     "text": [
      "/Users/paul.nisenson/.conda/envs/gis_project/lib/python3.8/site-packages/geopandas/io/file.py:362: FutureWarning: pandas.Int64Index is deprecated and will be removed from pandas in a future version. Use pandas.Index with the appropriate dtype instead.\n",
      "  pd.Int64Index,\n"
     ]
    }
   ],
   "source": [
    "geopandas.GeoSeries(Polygon(ex_add)).to_file(\"zones_border_minmax.geojson\", driver=\"GeoJSON\")"
   ]
  },
  {
   "cell_type": "code",
   "execution_count": 27,
   "id": "4306ab28",
   "metadata": {},
   "outputs": [
    {
     "data": {
      "text/plain": [
       "[(-73.842905, 40.828478),\n",
       " (-73.904913, 40.930289),\n",
       " (-73.884976, 40.998743),\n",
       " (-73.85936, 41.049505),\n",
       " (-73.810632, 41.050131),\n",
       " (-73.740237, 41.027901),\n",
       " (-73.689164, 41.031844),\n",
       " (-73.659447, 41.017651),\n",
       " (-73.671653, 40.965281),\n",
       " (-73.686521, 40.944206),\n",
       " (-73.690424, 40.959098),\n",
       " (-73.710459, 40.944847),\n",
       " (-73.723195, 40.931777),\n",
       " (-73.737685, 40.927729),\n",
       " (-73.743322, 40.918321),\n",
       " (-73.754567, 40.914751),\n",
       " (-73.76318, 40.912827),\n",
       " (-73.767022, 40.903912),\n",
       " (-73.777958, 40.892851),\n",
       " (-73.787124, 40.888521),\n",
       " (-73.826345, 40.811196),\n",
       " (-73.947051, 40.804001),\n",
       " (-73.655241, 41.060744)]"
      ]
     },
     "execution_count": 27,
     "metadata": {},
     "output_type": "execute_result"
    }
   ],
   "source": [
    "ex"
   ]
  },
  {
   "cell_type": "code",
   "execution_count": 28,
   "id": "758a6e77",
   "metadata": {},
   "outputs": [
    {
     "ename": "SyntaxError",
     "evalue": "invalid syntax (1244781715.py, line 2)",
     "output_type": "error",
     "traceback": [
      "\u001b[0;36m  Input \u001b[0;32mIn [28]\u001b[0;36m\u001b[0m\n\u001b[0;31m    ex_simple.\u001b[0m\n\u001b[0m              ^\u001b[0m\n\u001b[0;31mSyntaxError\u001b[0m\u001b[0;31m:\u001b[0m invalid syntax\n"
     ]
    }
   ],
   "source": [
    "ex_simple = za[0][0].exterior.simplify\n",
    "ex_simple."
   ]
  },
  {
   "cell_type": "code",
   "execution_count": 29,
   "id": "8ad52b04",
   "metadata": {},
   "outputs": [
    {
     "ename": "NameError",
     "evalue": "name 'ex_simple' is not defined",
     "output_type": "error",
     "traceback": [
      "\u001b[0;31m---------------------------------------------------------------------------\u001b[0m",
      "\u001b[0;31mNameError\u001b[0m                                 Traceback (most recent call last)",
      "Input \u001b[0;32mIn [29]\u001b[0m, in \u001b[0;36m<cell line: 1>\u001b[0;34m()\u001b[0m\n\u001b[0;32m----> 1\u001b[0m geopandas\u001b[38;5;241m.\u001b[39mGeoSeries(LinearRing(\u001b[43mex_simple\u001b[49m))\u001b[38;5;241m.\u001b[39mplot()\n",
      "\u001b[0;31mNameError\u001b[0m: name 'ex_simple' is not defined"
     ]
    }
   ],
   "source": [
    "geopandas.GeoSeries(LinearRing(ex_simple)).plot()"
   ]
  },
  {
   "cell_type": "code",
   "execution_count": 32,
   "id": "3257f31b",
   "metadata": {},
   "outputs": [
    {
     "name": "stderr",
     "output_type": "stream",
     "text": [
      "/var/folders/4_/q_7tb_w52611r6nz11nb05qm0000gp/T/ipykernel_3494/940701626.py:1: ShapelyDeprecationWarning: __getitem__ for multi-part geometries is deprecated and will be removed in Shapely 2.0. Use the `geoms` property to access the constituent parts of a multi-part geometry.\n",
      "  ex_more = za[0][0].exterior.coords[0::40]\n"
     ]
    }
   ],
   "source": [
    "ex_more = za[0][0].exterior.coords[0::40]"
   ]
  },
  {
   "cell_type": "code",
   "execution_count": 33,
   "id": "40556ae2",
   "metadata": {},
   "outputs": [
    {
     "data": {
      "text/plain": [
       "141"
      ]
     },
     "execution_count": 33,
     "metadata": {},
     "output_type": "execute_result"
    }
   ],
   "source": [
    "len(ex_more)"
   ]
  },
  {
   "cell_type": "code",
   "execution_count": 203,
   "id": "3f628120",
   "metadata": {},
   "outputs": [
    {
     "name": "stderr",
     "output_type": "stream",
     "text": [
      "/var/folders/4_/q_7tb_w52611r6nz11nb05qm0000gp/T/ipykernel_3494/3696550233.py:1: ShapelyDeprecationWarning: __getitem__ for multi-part geometries is deprecated and will be removed in Shapely 2.0. Use the `geoms` property to access the constituent parts of a multi-part geometry.\n",
      "  ex_more_buffer = za[0][0].buffer(0.01,16, join_style = 2).exterior.coords[0::29]\n",
      "/var/folders/4_/q_7tb_w52611r6nz11nb05qm0000gp/T/ipykernel_3494/3696550233.py:2: ShapelyDeprecationWarning: __getitem__ for multi-part geometries is deprecated and will be removed in Shapely 2.0. Use the `geoms` property to access the constituent parts of a multi-part geometry.\n",
      "  hv_ex_more_buffer = hv[0][0].buffer(0.01,16, join_style = 2).exterior.coords[0::68]\n"
     ]
    },
    {
     "data": {
      "text/plain": [
       "<AxesSubplot:>"
      ]
     },
     "execution_count": 203,
     "metadata": {},
     "output_type": "execute_result"
    },
    {
     "data": {
      "image/png": "[encoded data removed]",
      "text/plain": [
       "<Figure size 432x288 with 1 Axes>"
      ]
     },
     "metadata": {
      "needs_background": "light"
     },
     "output_type": "display_data"
    },
    {
     "data": {
      "image/png": "[encoded data removed]",
      "text/plain": [
       "<Figure size 432x288 with 1 Axes>"
      ]
     },
     "metadata": {
      "needs_background": "light"
     },
     "output_type": "display_data"
    }
   ],
   "source": [
    "ex_more_buffer = za[0][0].buffer(0.01,16, join_style = 2).exterior.coords[0::29]\n",
    "hv_ex_more_buffer = hv[0][0].buffer(0.01,16, join_style = 2).exterior.coords[0::68]\n",
    "geopandas.GeoSeries(Polygon(ex_more_buffer)).plot()\n",
    "geopandas.GeoSeries(Polygon(hv_ex_more_buffer)).plot()"
   ]
  },
  {
   "cell_type": "code",
   "execution_count": 204,
   "id": "0ae600d7",
   "metadata": {},
   "outputs": [
    {
     "data": {
      "text/plain": [
       "20"
      ]
     },
     "execution_count": 204,
     "metadata": {},
     "output_type": "execute_result"
    }
   ],
   "source": [
    "len(ex_more_buffer)\n",
    "len(hv_ex_more_buffer)"
   ]
  },
  {
   "cell_type": "code",
   "execution_count": 207,
   "id": "faff9fe3",
   "metadata": {},
   "outputs": [
    {
     "name": "stderr",
     "output_type": "stream",
     "text": [
      "/Users/paul.nisenson/.conda/envs/gis_project/lib/python3.8/site-packages/geopandas/io/file.py:362: FutureWarning: pandas.Int64Index is deprecated and will be removed from pandas in a future version. Use pandas.Index with the appropriate dtype instead.\n",
      "  pd.Int64Index,\n"
     ]
    }
   ],
   "source": [
    "geopandas.GeoSeries([Polygon(ex_more_buffer), Polygon(hv_ex_more_buffer)]).to_file(\"buffer.geojson\", driver=\"GeoJSON\")"
   ]
  },
  {
   "cell_type": "code",
   "execution_count": 95,
   "id": "fcd0845e",
   "metadata": {},
   "outputs": [
    {
     "name": "stderr",
     "output_type": "stream",
     "text": [
      "/var/folders/4_/q_7tb_w52611r6nz11nb05qm0000gp/T/ipykernel_3494/4283740714.py:1: ShapelyDeprecationWarning: __getitem__ for multi-part geometries is deprecated and will be removed in Shapely 2.0. Use the `geoms` property to access the constituent parts of a multi-part geometry.\n",
      "  len(za[0][0].buffer(0.01,16, join_style = 2).exterior.coords)/20\n"
     ]
    },
    {
     "data": {
      "text/plain": [
       "28.65"
      ]
     },
     "execution_count": 95,
     "metadata": {},
     "output_type": "execute_result"
    }
   ],
   "source": [
    "len(za[0][0].buffer(0.01,16, join_style = 2).exterior.coords)/20"
   ]
  },
  {
   "cell_type": "code",
   "execution_count": 210,
   "id": "273d8b21",
   "metadata": {},
   "outputs": [
    {
     "data": {
      "text/html": [
       "<div>\n",
       "<style scoped>\n",
       "    .dataframe tbody tr th:only-of-type {\n",
       "        vertical-align: middle;\n",
       "    }\n",
       "\n",
       "    .dataframe tbody tr th {\n",
       "        vertical-align: top;\n",
       "    }\n",
       "\n",
       "    .dataframe thead th {\n",
       "        text-align: right;\n",
       "    }\n",
       "</style>\n",
       "<table border=\"1\" class=\"dataframe\">\n",
       "  <thead>\n",
       "    <tr style=\"text-align: right;\">\n",
       "      <th></th>\n",
       "      <th>Zone</th>\n",
       "      <th>geometry</th>\n",
       "    </tr>\n",
       "  </thead>\n",
       "  <tbody>\n",
       "    <tr>\n",
       "      <th>0</th>\n",
       "      <td>Westchester</td>\n",
       "      <td>POLYGON ((-73.93437 40.87170, -73.91002 40.952...</td>\n",
       "    </tr>\n",
       "    <tr>\n",
       "      <th>1</th>\n",
       "      <td>Hudson Valley</td>\n",
       "      <td>POLYGON ((-73.99264 41.44787, -73.99244 41.533...</td>\n",
       "    </tr>\n",
       "  </tbody>\n",
       "</table>\n",
       "</div>"
      ],
      "text/plain": [
       "            Zone                                           geometry\n",
       "0    Westchester  POLYGON ((-73.93437 40.87170, -73.91002 40.952...\n",
       "1  Hudson Valley  POLYGON ((-73.99264 41.44787, -73.99244 41.533..."
      ]
     },
     "execution_count": 210,
     "metadata": {},
     "output_type": "execute_result"
    }
   ],
   "source": [
    "d = {'Zone': ['Westchester', 'Hudson Valley'], 'geometry': [Polygon(ex_more_buffer), Polygon(hv_ex_more_buffer)]}\n",
    "buffer_gdf = geopandas.GeoDataFrame(d, crs=\"EPSG:4326\")\n",
    "buffer_gdf"
   ]
  },
  {
   "cell_type": "code",
   "execution_count": 211,
   "id": "41b8b05b",
   "metadata": {},
   "outputs": [
    {
     "name": "stderr",
     "output_type": "stream",
     "text": [
      "/Users/paul.nisenson/.conda/envs/gis_project/lib/python3.8/site-packages/geopandas/io/file.py:362: FutureWarning: pandas.Int64Index is deprecated and will be removed from pandas in a future version. Use pandas.Index with the appropriate dtype instead.\n",
      "  pd.Int64Index,\n"
     ]
    }
   ],
   "source": [
    "buffer_gdf.to_file(\"buffer.geojson\", driver=\"GeoJSON\")"
   ]
  },
  {
   "cell_type": "code",
   "execution_count": null,
   "id": "0f1715b1",
   "metadata": {},
   "outputs": [],
   "source": []
  }
 ],
 "metadata": {
  "kernelspec": {
   "display_name": "Python 3 (ipykernel)",
   "language": "python",
   "name": "python3"
  },
  "language_info": {
   "codemirror_mode": {
    "name": "ipython",
    "version": 3
   },
   "file_extension": ".py",
   "mimetype": "text/x-python",
   "name": "python",
   "nbconvert_exporter": "python",
   "pygments_lexer": "ipython3",
   "version": "3.8.13"
  }
 },
 "nbformat": 4,
 "nbformat_minor": 5
}
